{
 "cells": [
  {
   "cell_type": "code",
   "execution_count": 2,
   "outputs": [
    {
     "data": {
      "text/plain": "              mean            SD  skewness    Kurtosis        min  \\\nBGNE  3.043567e+05  2.952018e+05  8.402415  108.316926    50900.0   \nRPRX  2.139936e+06  1.561052e+06  7.743125   95.578870   307800.0   \nARGX  2.075210e+05  1.500386e+05  5.764484   65.695805    23600.0   \nMRNA  8.587549e+06  1.157172e+07  4.287469   27.604352   272800.0   \nHLN   8.330836e+06  2.645869e+06  1.178280   18.578602  1275800.0   \nZTS   2.005315e+06  8.403686e+05  1.676364    4.739723   417400.0   \nVRTX  1.572511e+06  9.400755e+05  6.736403   89.921806   300500.0   \nGILD  8.439954e+06  6.180807e+06  5.778081   54.311537  1965800.0   \n\n              max  acf of lag 1  \nBGNE    5213400.0      0.307346  \nRPRX   27619300.0      0.375624  \nARGX    2641900.0      0.396731  \nMRNA  125130400.0      0.713378  \nHLN    36347500.0      0.760669  \nZTS     8065500.0      0.511973  \nVRTX   17493000.0      0.405004  \nGILD   94348500.0      0.614391  ",
      "text/html": "<div>\n<style scoped>\n    .dataframe tbody tr th:only-of-type {\n        vertical-align: middle;\n    }\n\n    .dataframe tbody tr th {\n        vertical-align: top;\n    }\n\n    .dataframe thead th {\n        text-align: right;\n    }\n</style>\n<table border=\"1\" class=\"dataframe\">\n  <thead>\n    <tr style=\"text-align: right;\">\n      <th></th>\n      <th>mean</th>\n      <th>SD</th>\n      <th>skewness</th>\n      <th>Kurtosis</th>\n      <th>min</th>\n      <th>max</th>\n      <th>acf of lag 1</th>\n    </tr>\n  </thead>\n  <tbody>\n    <tr>\n      <th>BGNE</th>\n      <td>3.043567e+05</td>\n      <td>2.952018e+05</td>\n      <td>8.402415</td>\n      <td>108.316926</td>\n      <td>50900.0</td>\n      <td>5213400.0</td>\n      <td>0.307346</td>\n    </tr>\n    <tr>\n      <th>RPRX</th>\n      <td>2.139936e+06</td>\n      <td>1.561052e+06</td>\n      <td>7.743125</td>\n      <td>95.578870</td>\n      <td>307800.0</td>\n      <td>27619300.0</td>\n      <td>0.375624</td>\n    </tr>\n    <tr>\n      <th>ARGX</th>\n      <td>2.075210e+05</td>\n      <td>1.500386e+05</td>\n      <td>5.764484</td>\n      <td>65.695805</td>\n      <td>23600.0</td>\n      <td>2641900.0</td>\n      <td>0.396731</td>\n    </tr>\n    <tr>\n      <th>MRNA</th>\n      <td>8.587549e+06</td>\n      <td>1.157172e+07</td>\n      <td>4.287469</td>\n      <td>27.604352</td>\n      <td>272800.0</td>\n      <td>125130400.0</td>\n      <td>0.713378</td>\n    </tr>\n    <tr>\n      <th>HLN</th>\n      <td>8.330836e+06</td>\n      <td>2.645869e+06</td>\n      <td>1.178280</td>\n      <td>18.578602</td>\n      <td>1275800.0</td>\n      <td>36347500.0</td>\n      <td>0.760669</td>\n    </tr>\n    <tr>\n      <th>ZTS</th>\n      <td>2.005315e+06</td>\n      <td>8.403686e+05</td>\n      <td>1.676364</td>\n      <td>4.739723</td>\n      <td>417400.0</td>\n      <td>8065500.0</td>\n      <td>0.511973</td>\n    </tr>\n    <tr>\n      <th>VRTX</th>\n      <td>1.572511e+06</td>\n      <td>9.400755e+05</td>\n      <td>6.736403</td>\n      <td>89.921806</td>\n      <td>300500.0</td>\n      <td>17493000.0</td>\n      <td>0.405004</td>\n    </tr>\n    <tr>\n      <th>GILD</th>\n      <td>8.439954e+06</td>\n      <td>6.180807e+06</td>\n      <td>5.778081</td>\n      <td>54.311537</td>\n      <td>1965800.0</td>\n      <td>94348500.0</td>\n      <td>0.614391</td>\n    </tr>\n  </tbody>\n</table>\n</div>"
     },
     "execution_count": 2,
     "metadata": {},
     "output_type": "execute_result"
    }
   ],
   "source": [
    "# import libraries\n",
    "from numpy import *\n",
    "import pandas as pd\n",
    "from yahoo_fin.stock_info import get_data\n",
    "\n",
    "import json\n",
    "import datetime\n",
    "import matplotlib.pyplot as plt\n",
    "\n",
    "import seaborn as sns\n",
    "\n",
    "plt.rcParams['figure.figsize'] = (20, 10)\n",
    "plt.style.use('fivethirtyeight')\n",
    "########### FOCUS ON BIOTECH INDUSTRY #############\n",
    "###### WE ONLY SELECT THE FIRMS THAT HAVE LESS THAN $1 BILLION MARKET CAP TO CAPTURE MORE CHARACTERSITICS \n",
    "\n",
    "# import data from yahoo finance\n",
    "bio_stocks = ['BGNE', 'RPRX', 'ARGX', 'MRNA', 'HLN', 'ZTS', 'VRTX', 'GILD']\n",
    "\n",
    "# create the adjclose dataframe\n",
    "df_bio_adjclose = pd.DataFrame()\n",
    "# create the volume dataframe\n",
    "df_bio_vol = pd.DataFrame()\n",
    "\n",
    "for stock in bio_stocks:\n",
    "    adjclose = get_data(stock, start_date=\"10/31/2018\", end_date=\"10/31/2023\", index_as_date=True, interval=\"1d\")[\n",
    "        'adjclose']\n",
    "    vol = get_data(stock, start_date=\"10/31/2018\", end_date=\"10/31/2023\", index_as_date=True, interval=\"1d\")['volume']\n",
    "\n",
    "    df_bio_adjclose = pd.concat([df_bio_adjclose, adjclose], axis=1)\n",
    "    df_bio_vol = pd.concat([df_bio_vol, vol], axis=1)\n",
    "\n",
    "df_bio_adjclose.columns = bio_stocks\n",
    "df_bio_vol.columns = bio_stocks\n",
    "\n",
    "# impute the na wiht the average of the nearest 50 values or should we use simulation to impute?\n",
    "rprx_ave = mean(df_bio_adjclose['RPRX'][407:457])\n",
    "mrna_ave = mean(df_bio_adjclose['MRNA'][25:75])\n",
    "hln_ave = mean(df_bio_adjclose['HLN'][937:987])\n",
    "\n",
    "df_bio_adjclose['RPRX'] = df_bio_adjclose['RPRX'].fillna(rprx_ave)\n",
    "df_bio_adjclose['MRNA'] = df_bio_adjclose['MRNA'].fillna(mrna_ave)\n",
    "df_bio_adjclose['HLN'] = df_bio_adjclose['HLN'].fillna(hln_ave)\n",
    "\n",
    "rprx_vol = mean(df_bio_vol['RPRX'][407:457])\n",
    "mrna_vol = mean(df_bio_vol['MRNA'][25:75])\n",
    "hln_vol = mean(df_bio_vol['HLN'][937:987])\n",
    "\n",
    "df_bio_vol['RPRX'] = df_bio_vol['RPRX'].fillna(rprx_vol)\n",
    "df_bio_vol['MRNA'] = df_bio_vol['MRNA'].fillna(mrna_vol)\n",
    "df_bio_vol['HLN'] = df_bio_vol['HLN'].fillna(hln_vol)\n",
    "# compute the statistics for adjclose\n",
    "mean = df_bio_adjclose.mean()\n",
    "sd = sqrt(df_bio_adjclose.var())\n",
    "skew = df_bio_adjclose.skew()\n",
    "kurtosis = df_bio_adjclose.kurtosis()\n",
    "mini = df_bio_adjclose.min()\n",
    "maxi = df_bio_adjclose.max()\n",
    "\n",
    "col = ['mean', 'SD', 'skewness', 'Kurtosis', 'min', 'max', 'acf of lag 1']\n",
    "\n",
    "acf_lag1 = []\n",
    "for stock in bio_stocks:\n",
    "    acf_lag1.append(pd.Series(df_bio_adjclose[stock]).autocorr())\n",
    "acf_lag1 = pd.DataFrame(acf_lag1, index=bio_stocks)\n",
    "\n",
    "df_stats_1 = pd.concat([mean, sd, skew, kurtosis, mini, maxi, acf_lag1], axis=1, ignore_index=True)\n",
    "df_stats_1.columns = col\n",
    "df_stats_1\n",
    "# compute the statistics for volume\n",
    "mean = df_bio_vol.mean()\n",
    "sd = sqrt(df_bio_vol.var())\n",
    "skew = df_bio_vol.skew()\n",
    "kurtosis = df_bio_vol.kurtosis()\n",
    "mini = df_bio_vol.min()\n",
    "maxi = df_bio_vol.max()\n",
    "\n",
    "acf_lag1 = []\n",
    "for stock in bio_stocks:\n",
    "    acf_lag1.append(pd.Series(df_bio_vol[stock]).autocorr())\n",
    "acf_lag1 = pd.DataFrame(acf_lag1, index=bio_stocks)\n",
    "\n",
    "df_stats_2 = pd.concat([mean, sd, skew, kurtosis, mini, maxi, acf_lag1], axis=1, ignore_index=True)\n",
    "df_stats_2.columns = col\n",
    "df_stats_2"
   ],
   "metadata": {
    "collapsed": false,
    "ExecuteTime": {
     "end_time": "2023-11-15T02:11:03.003589Z",
     "start_time": "2023-11-15T02:10:54.143745Z"
    }
   },
   "id": "f66ed5779e8e8973"
  },
  {
   "cell_type": "code",
   "execution_count": 11,
   "id": "initial_id",
   "metadata": {
    "collapsed": true,
    "ExecuteTime": {
     "end_time": "2023-11-15T02:20:51.658062Z",
     "start_time": "2023-11-15T02:20:51.608209Z"
    }
   },
   "outputs": [
    {
     "name": "stderr",
     "output_type": "stream",
     "text": [
      "/var/folders/z5/102n99n926x7011cmbz3_q7w0000gn/T/ipykernel_23665/2289943983.py:18: FutureWarning: Series.__getitem__ treating keys as positions is deprecated. In a future version, integer keys will always be treated as labels (consistent with DataFrame behavior). To access a value by position, use `ser.iloc[pos]`\n",
      "  portfolio_return = quicksum(mean_returns[i] * x[i] for i in range(num_assets))\n"
     ]
    },
    {
     "ename": "TypeError",
     "evalue": "tupledict.prod requires a dictionary",
     "output_type": "error",
     "traceback": [
      "\u001B[0;31m---------------------------------------------------------------------------\u001B[0m",
      "\u001B[0;31mTypeError\u001B[0m                                 Traceback (most recent call last)",
      "Cell \u001B[0;32mIn[11], line 47\u001B[0m\n\u001B[1;32m     44\u001B[0m     \u001B[38;5;28;01mreturn\u001B[39;00m decisions\n\u001B[1;32m     46\u001B[0m \u001B[38;5;66;03m# Run the optimization\u001B[39;00m\n\u001B[0;32m---> 47\u001B[0m decisions \u001B[38;5;241m=\u001B[39m optimize_portfolio(df_bio_adjclose)\n\u001B[1;32m     48\u001B[0m \u001B[38;5;28mprint\u001B[39m(decisions)\n",
      "Cell \u001B[0;32mIn[11], line 22\u001B[0m, in \u001B[0;36moptimize_portfolio\u001B[0;34m(prices)\u001B[0m\n\u001B[1;32m     20\u001B[0m \u001B[38;5;66;03m# Convert the covariance matrix to a 2D list for Gurobi\u001B[39;00m\n\u001B[1;32m     21\u001B[0m cov_matrix_list \u001B[38;5;241m=\u001B[39m cov_matrix\u001B[38;5;241m.\u001B[39mvalues\u001B[38;5;241m.\u001B[39mtolist()\n\u001B[0;32m---> 22\u001B[0m portfolio_variance \u001B[38;5;241m=\u001B[39m x\u001B[38;5;241m.\u001B[39mprod(cov_matrix_list, x)\n\u001B[1;32m     24\u001B[0m \u001B[38;5;66;03m# Set objective: maximize return and minimize variance\u001B[39;00m\n\u001B[1;32m     25\u001B[0m m\u001B[38;5;241m.\u001B[39msetObjective(portfolio_return \u001B[38;5;241m-\u001B[39m portfolio_variance, GRB\u001B[38;5;241m.\u001B[39mMAXIMIZE)\n",
      "File \u001B[0;32msrc/gurobipy/tupledict.pxi:84\u001B[0m, in \u001B[0;36mgurobipy.tupledict.prod\u001B[0;34m()\u001B[0m\n",
      "\u001B[0;31mTypeError\u001B[0m: tupledict.prod requires a dictionary"
     ]
    }
   ],
   "source": [
    "from gurobipy import *\n",
    "def optimize_portfolio(prices):\n",
    "    # Calculate daily returns and statistics\n",
    "    returns = prices.pct_change().dropna()\n",
    "    mean_returns = returns.mean()\n",
    "    cov_matrix = returns.cov()\n",
    "\n",
    "    # Number of assets\n",
    "    num_assets = len(mean_returns)\n",
    "\n",
    "    # Create a new model\n",
    "    m = Model(\"portfolio_optimization\")\n",
    "\n",
    "    # Add variables\n",
    "    x = m.addVars(num_assets, lb=0, ub=1, name=\"x\")\n",
    "\n",
    "    # Align indices for matrix multiplication\n",
    "    portfolio_return = quicksum(mean_returns[i] * x[i] for i in range(num_assets))\n",
    "\n",
    "    # Convert the covariance matrix to a 2D list for Gurobi\n",
    "    cov_matrix_list = cov_matrix.values.tolist()\n",
    "    portfolio_variance = x.prod(cov_matrix_list, x)\n",
    "\n",
    "    # Set objective: maximize return and minimize variance\n",
    "    m.setObjective(portfolio_return - portfolio_variance, GRB.MAXIMIZE)\n",
    "\n",
    "    # Add constraint: sum of x_i (portfolio weights) must equal 1\n",
    "    m.addConstr(x.sum() == 1, \"budget\")\n",
    "\n",
    "    # Optimize the model\n",
    "    m.optimize()\n",
    "\n",
    "    # Decision making based on the optimization\n",
    "    decisions = {}\n",
    "    for i in range(num_assets):\n",
    "        stock = prices.columns[i]\n",
    "        if x[i].x > mean_returns[stock]:  # Example condition, replace with your logic\n",
    "            decisions[stock] = \"buy more\"\n",
    "        elif x[i].x < mean_returns[stock]:  # Example condition, replace with your logic\n",
    "            decisions[stock] = \"sell\"\n",
    "        else:\n",
    "            decisions[stock] = \"keep\"\n",
    "\n",
    "    return decisions\n",
    "\n",
    "# Run the optimization\n",
    "decisions = optimize_portfolio(df_bio_adjclose)\n",
    "print(decisions)"
   ]
  },
  {
   "cell_type": "code",
   "execution_count": 10,
   "outputs": [
    {
     "data": {
      "text/plain": "                  BGNE       RPRX        ARGX       MRNA       HLN  \\\n2018-10-31  125.940002  42.761496   80.010002  16.743000  6.293415   \n2018-11-01  130.089996  42.761496   96.050003  16.743000  6.293415   \n2018-11-02  126.500000  42.761496   96.199997  16.743000  6.293415   \n2018-11-05  126.970001  42.761496   97.910004  16.743000  6.293415   \n2018-11-06  124.650002  42.761496  100.500000  16.743000  6.293415   \n...                ...        ...         ...        ...       ...   \n2023-10-24  172.960007  27.639999  481.200012  79.760002  8.260000   \n2023-10-25  166.479996  27.299999  472.000000  76.760002  8.220000   \n2023-10-26  165.850006  27.250000  470.429993  75.980003  7.990000   \n2023-10-27  170.449997  26.209999  459.869995  71.910004  7.780000   \n2023-10-30  186.610001  26.700001  464.149994  74.070000  8.020000   \n\n                   ZTS        VRTX       GILD  \n2018-10-31   87.021736  169.460007  55.752144  \n2018-11-01   90.979454  175.190002  57.493881  \n2018-11-02   89.550804  173.289993  56.782482  \n2018-11-05   89.502541  174.589996  56.896965  \n2018-11-06   89.541153  175.229996  57.526596  \n...                ...         ...        ...  \n2023-10-24  166.720825  369.380005  78.150002  \n2023-10-25  163.279068  363.040009  78.389999  \n2023-10-26  157.692444  361.279999  78.500000  \n2023-10-27  155.657318  355.279999  76.620003  \n2023-10-30  156.625000  357.450012  77.769997  \n\n[1257 rows x 8 columns]",
      "text/html": "<div>\n<style scoped>\n    .dataframe tbody tr th:only-of-type {\n        vertical-align: middle;\n    }\n\n    .dataframe tbody tr th {\n        vertical-align: top;\n    }\n\n    .dataframe thead th {\n        text-align: right;\n    }\n</style>\n<table border=\"1\" class=\"dataframe\">\n  <thead>\n    <tr style=\"text-align: right;\">\n      <th></th>\n      <th>BGNE</th>\n      <th>RPRX</th>\n      <th>ARGX</th>\n      <th>MRNA</th>\n      <th>HLN</th>\n      <th>ZTS</th>\n      <th>VRTX</th>\n      <th>GILD</th>\n    </tr>\n  </thead>\n  <tbody>\n    <tr>\n      <th>2018-10-31</th>\n      <td>125.940002</td>\n      <td>42.761496</td>\n      <td>80.010002</td>\n      <td>16.743000</td>\n      <td>6.293415</td>\n      <td>87.021736</td>\n      <td>169.460007</td>\n      <td>55.752144</td>\n    </tr>\n    <tr>\n      <th>2018-11-01</th>\n      <td>130.089996</td>\n      <td>42.761496</td>\n      <td>96.050003</td>\n      <td>16.743000</td>\n      <td>6.293415</td>\n      <td>90.979454</td>\n      <td>175.190002</td>\n      <td>57.493881</td>\n    </tr>\n    <tr>\n      <th>2018-11-02</th>\n      <td>126.500000</td>\n      <td>42.761496</td>\n      <td>96.199997</td>\n      <td>16.743000</td>\n      <td>6.293415</td>\n      <td>89.550804</td>\n      <td>173.289993</td>\n      <td>56.782482</td>\n    </tr>\n    <tr>\n      <th>2018-11-05</th>\n      <td>126.970001</td>\n      <td>42.761496</td>\n      <td>97.910004</td>\n      <td>16.743000</td>\n      <td>6.293415</td>\n      <td>89.502541</td>\n      <td>174.589996</td>\n      <td>56.896965</td>\n    </tr>\n    <tr>\n      <th>2018-11-06</th>\n      <td>124.650002</td>\n      <td>42.761496</td>\n      <td>100.500000</td>\n      <td>16.743000</td>\n      <td>6.293415</td>\n      <td>89.541153</td>\n      <td>175.229996</td>\n      <td>57.526596</td>\n    </tr>\n    <tr>\n      <th>...</th>\n      <td>...</td>\n      <td>...</td>\n      <td>...</td>\n      <td>...</td>\n      <td>...</td>\n      <td>...</td>\n      <td>...</td>\n      <td>...</td>\n    </tr>\n    <tr>\n      <th>2023-10-24</th>\n      <td>172.960007</td>\n      <td>27.639999</td>\n      <td>481.200012</td>\n      <td>79.760002</td>\n      <td>8.260000</td>\n      <td>166.720825</td>\n      <td>369.380005</td>\n      <td>78.150002</td>\n    </tr>\n    <tr>\n      <th>2023-10-25</th>\n      <td>166.479996</td>\n      <td>27.299999</td>\n      <td>472.000000</td>\n      <td>76.760002</td>\n      <td>8.220000</td>\n      <td>163.279068</td>\n      <td>363.040009</td>\n      <td>78.389999</td>\n    </tr>\n    <tr>\n      <th>2023-10-26</th>\n      <td>165.850006</td>\n      <td>27.250000</td>\n      <td>470.429993</td>\n      <td>75.980003</td>\n      <td>7.990000</td>\n      <td>157.692444</td>\n      <td>361.279999</td>\n      <td>78.500000</td>\n    </tr>\n    <tr>\n      <th>2023-10-27</th>\n      <td>170.449997</td>\n      <td>26.209999</td>\n      <td>459.869995</td>\n      <td>71.910004</td>\n      <td>7.780000</td>\n      <td>155.657318</td>\n      <td>355.279999</td>\n      <td>76.620003</td>\n    </tr>\n    <tr>\n      <th>2023-10-30</th>\n      <td>186.610001</td>\n      <td>26.700001</td>\n      <td>464.149994</td>\n      <td>74.070000</td>\n      <td>8.020000</td>\n      <td>156.625000</td>\n      <td>357.450012</td>\n      <td>77.769997</td>\n    </tr>\n  </tbody>\n</table>\n<p>1257 rows × 8 columns</p>\n</div>"
     },
     "execution_count": 10,
     "metadata": {},
     "output_type": "execute_result"
    }
   ],
   "source": [
    "df_bio_adjclose"
   ],
   "metadata": {
    "collapsed": false,
    "ExecuteTime": {
     "end_time": "2023-11-15T02:20:41.054180Z",
     "start_time": "2023-11-15T02:20:41.048833Z"
    }
   },
   "id": "ed5fb885079e88b0"
  },
  {
   "cell_type": "code",
   "execution_count": null,
   "outputs": [],
   "source": [],
   "metadata": {
    "collapsed": false
   },
   "id": "a01ab26d0b9880d2"
  }
 ],
 "metadata": {
  "kernelspec": {
   "display_name": "Python 3",
   "language": "python",
   "name": "python3"
  },
  "language_info": {
   "codemirror_mode": {
    "name": "ipython",
    "version": 2
   },
   "file_extension": ".py",
   "mimetype": "text/x-python",
   "name": "python",
   "nbconvert_exporter": "python",
   "pygments_lexer": "ipython2",
   "version": "2.7.6"
  }
 },
 "nbformat": 4,
 "nbformat_minor": 5
}
